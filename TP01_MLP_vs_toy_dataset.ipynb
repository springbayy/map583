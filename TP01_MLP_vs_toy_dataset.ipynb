{
  "cells": [
    {
      "cell_type": "markdown",
      "metadata": {
        "colab_type": "text",
        "id": "view-in-github"
      },
      "source": [
        "<a href=\"https://colab.research.google.com/github/kscaman/MAP583/blob/main/TP/TP01_MLP_vs_toy_dataset.ipynb\" target=\"_parent\"><img src=\"https://colab.research.google.com/assets/colab-badge.svg\" alt=\"Open In Colab\"/></a>"
      ]
    },
    {
      "cell_type": "markdown",
      "metadata": {
        "id": "LzxQ13chKKnT"
      },
      "source": [
        "# TP01 - Training and visualizing MLPs on toy datasets\n",
        "\n",
        "In this practical, we are going to learn how to train a simple feed forward neural network (aka Multi-Layer Perceptron or MLP) on a synthetic dataset and visualize the result. We will use a custom package to help automatically check your results."
      ]
    },
    {
      "cell_type": "markdown",
      "metadata": {
        "id": "YkQ5hy55K8jG"
      },
      "source": [
        "### Auto-checker setup"
      ]
    },
    {
      "cell_type": "code",
      "execution_count": 1,
      "metadata": {
        "id": "F4KtyY-lJVCP"
      },
      "outputs": [
        {
          "name": "stdout",
          "output_type": "stream",
          "text": [
            "Collecting git+https://gitlab.com/robindar/dl-scaman_checker.git\n",
            "  Cloning https://gitlab.com/robindar/dl-scaman_checker.git to c:\\users\\maxrl\\appdata\\local\\temp\\pip-req-build-lf_xmbn8\n",
            "  Resolved https://gitlab.com/robindar/dl-scaman_checker.git to commit ef2f403977629cd191c8afed4b676a7447076b45\n",
            "  Preparing metadata (setup.py): started\n",
            "  Preparing metadata (setup.py): finished with status 'done'\n",
            "Requirement already satisfied: numpy in c:\\users\\maxrl\\appdata\\local\\packages\\pythonsoftwarefoundation.python.3.8_qbz5n2kfra8p0\\localcache\\local-packages\\python38\\site-packages (from dl-scaman-checker==0.1.5) (1.24.3)\n",
            "Note: you may need to restart the kernel to use updated packages.\n",
            "[\u001b[92mDONE\u001b[00m] Install ok. Version is v0.1.5\n"
          ]
        },
        {
          "name": "stderr",
          "output_type": "stream",
          "text": [
            "  Running command git clone --filter=blob:none --quiet https://gitlab.com/robindar/dl-scaman_checker.git 'C:\\Users\\maxrl\\AppData\\Local\\Temp\\pip-req-build-lf_xmbn8'\n"
          ]
        }
      ],
      "source": [
        "%pip install --upgrade \"git+https://gitlab.com/robindar/dl-scaman_checker.git\"\n",
        "from dl_scaman_checker import TP01\n",
        "import dl_scaman_checker\n",
        "TP01.check_install()\n"
      ]
    },
    {
      "cell_type": "markdown",
      "metadata": {
        "id": "0uFnHJm8K8jH"
      },
      "source": [
        "### Importing libraries"
      ]
    },
    {
      "cell_type": "markdown",
      "metadata": {
        "id": "krX3ndDIKojY"
      },
      "source": [
        "First import the three libraries we will use: **torch**, **numpy** (as np) and **matplotlib.pyplot** (as plt)."
      ]
    },
    {
      "cell_type": "code",
      "execution_count": 2,
      "metadata": {
        "id": "EKEOv_EsK8jH"
      },
      "outputs": [
        {
          "name": "stdout",
          "output_type": "stream",
          "text": [
            "[\u001b[92mDONE\u001b[00m] Imports ok\n"
          ]
        }
      ],
      "source": [
        "### YOUR CODE HERE ###\n",
        "import numpy as np\n",
        "import matplotlib.pyplot as plt\n",
        "import torch\n",
        "\n",
        "TP01.check_imports()"
      ]
    },
    {
      "cell_type": "markdown",
      "metadata": {
        "id": "tj5UoUBrK-Xf"
      },
      "source": [
        "# Part A - Checkerboard learning\n",
        "\n",
        "## A.0 - Data generation\n",
        "\n",
        "Then, create a function `create_checkerboard` that returns two pytorch Tensors: `X` of shape $(100,2)$ where $100$ is the number of data points and each point is drawn uniformly at random in $[-2,2]^2$, and `y` of shape $(100,2)$ where $y_i=(1,0)$ if $X_{i,1} \\cdot X_{i,2} > 0$, and $y_i=(0,1)$ otherwise. The vectors $y_i$ are called **one-hot** encodings of the classes 0 and 1.\n",
        "\n",
        "**IMPORTANT:** Always test the shape of your tensor with `print(X.shape)` to verify that your are computing the right quantity.\n",
        "\n"
      ]
    },
    {
      "cell_type": "code",
      "execution_count": 3,
      "metadata": {
        "id": "hOoApLjcJXdn"
      },
      "outputs": [],
      "source": [
        "### YOUR CODE HERE ###\n",
        "def create_checkerboard():\n",
        "    X =2*(2*torch.rand(100,2)-1)\n",
        "    y=1*(X[:,0]*X[:,1]>0)\n",
        "    y=torch.stack([y, 1-y], dim=1)\n",
        "\n",
        "    return X, y\n",
        "\n"
      ]
    },
    {
      "cell_type": "code",
      "execution_count": 4,
      "metadata": {
        "id": "s6Z6Z_kmK8jH"
      },
      "outputs": [
        {
          "name": "stdout",
          "output_type": "stream",
          "text": [
            "[\u001b[92mDONE\u001b[00m] Dimensions ok\n",
            "[\u001b[92mDONE\u001b[00m] Distributions ok\n"
          ]
        }
      ],
      "source": [
        "X, y = create_checkerboard()\n",
        "\n",
        "TP01.check_dimensions(X, y)\n",
        "TP01.check_distributions(X, y)"
      ]
    },
    {
      "cell_type": "code",
      "execution_count": 5,
      "metadata": {
        "id": "kbMcop8KK8jH"
      },
      "outputs": [
        {
          "data": {
            "image/png": "[encoded data removed]",
            "text/plain": [
              "<Figure size 640x480 with 1 Axes>"
            ]
          },
          "metadata": {},
          "output_type": "display_data"
        }
      ],
      "source": [
        "# Visualizing the dataset\n",
        "plt.scatter(X[:, 0], X[:, 1], c=y[:,0])\n",
        "plt.xlabel(\"$X_1$\")\n",
        "plt.ylabel(\"$X_2$\")\n",
        "plt.title(\"Checkerboard dataset\")\n",
        "plt.show()"
      ]
    },
    {
      "cell_type": "markdown",
      "metadata": {
        "id": "v2C2TRFST99w"
      },
      "source": [
        "## A.1 - Model creation\n",
        "\n",
        "First, let's create a two-layer perceptron with ReLU activations.\n",
        "Create a function `create_simple_mlp(width)` that returns an MLP with 2 inputs, 2 outputs, and `width` internal neurons.\n",
        "Check the documentation for `torch.nn.Sequential`, used to construct MLPs.\n",
        "Since we are using linear layers and a ReLU activation, you will also need\n",
        "`torch.nn.Linear` and `torch.nn.ReLU`."
      ]
    },
    {
      "cell_type": "code",
      "execution_count": 6,
      "metadata": {
        "id": "G453zpDYUuF_"
      },
      "outputs": [
        {
          "name": "stdout",
          "output_type": "stream",
          "text": [
            "Sequential(\n",
            "  (0): Linear(in_features=2, out_features=100, bias=True)\n",
            "  (1): ReLU()\n",
            "  (2): Linear(in_features=100, out_features=2, bias=True)\n",
            ")\n"
          ]
        }
      ],
      "source": [
        "### YOUR CODE HERE ###\n",
        "import torch.nn as nn\n",
        "def create_simple_mlp(width):\n",
        "    model=nn.Sequential(nn.Linear(2, width), nn.ReLU(), nn.Linear(width, 2))\n",
        "\n",
        "    return model\n",
        "\n",
        "model=create_simple_mlp(100)\n",
        "print(model)"
      ]
    },
    {
      "cell_type": "markdown",
      "metadata": {
        "id": "6Rl9vCnbtI94"
      },
      "source": [
        "Using `print` and `shape`, verify that the model outputs a 2-dimensional vector for each input data point on the checkerboard dataset."
      ]
    },
    {
      "cell_type": "code",
      "execution_count": 7,
      "metadata": {
        "id": "gojs3BbLK8jI"
      },
      "outputs": [
        {
          "name": "stdout",
          "output_type": "stream",
          "text": [
            "[\u001b[92mDONE\u001b[00m] Signature ok\n"
          ]
        }
      ],
      "source": [
        "### YOUR CODE HERE ###\n",
        "\n",
        "TP01.check_model_signature((X,y), model)"
      ]
    },
    {
      "cell_type": "markdown",
      "metadata": {
        "id": "fD1ycoGwOgI_"
      },
      "source": [
        "## A.2 - Training pipeline\n",
        "\n",
        "### A.2.0 - Visualizing network output\n",
        "\n",
        "We will visualize the network output as follows. For now, the visualize function is provided. Later, you will write your own.\n",
        "On the left, we plot for each point of the input plane the difference between the predicted coordinates $y_{i,0} - y_{i,1}$, positive\n",
        "if the network classifies the point as class 0, and negative if it is classified as class 1.\n",
        "On the right, we plot the evolution of the loss over training, given by the `losses` array. You will populate this array when writing your training loop."
      ]
    },
    {
      "cell_type": "code",
      "execution_count": 8,
      "metadata": {
        "id": "5PF30ZW9JpZj"
      },
      "outputs": [
        {
          "data": {
            "image/png": "[encoded data removed]",
            "text/plain": [
              "<Figure size 1000x400 with 3 Axes>"
            ]
          },
          "metadata": {},
          "output_type": "display_data"
        }
      ],
      "source": [
        "example_losses = [1/i for i in range(1,10)]\n",
        "TP01.visualize(data=(X,y), model=model, epoch=0, losses=example_losses)"
      ]
    },
    {
      "cell_type": "markdown",
      "metadata": {
        "id": "M4AlxC1tK8jI"
      },
      "source": [
        "### A.2.1 - Computing gradients and modifying weights\n",
        "\n",
        "In PyTorch, a model automatically computes the gradients with respect to a given computation whenever the `.backward()` method is called.\n",
        "Here is an example of how to access the models and their parameters. After computing a value and calling `value.backward()`, the gradient of the model parameters is automatically available with the `.grad` attribute."
      ]
    },
    {
      "cell_type": "code",
      "execution_count": 9,
      "metadata": {
        "id": "IJBWhXlsK8jI"
      },
      "outputs": [
        {
          "data": {
            "text/plain": [
              "[torch.Size([100, 2]),\n",
              " torch.Size([100]),\n",
              " torch.Size([2, 100]),\n",
              " torch.Size([2])]"
            ]
          },
          "execution_count": 9,
          "metadata": {},
          "output_type": "execute_result"
        }
      ],
      "source": [
        "[ p.shape for p in model.parameters() ]"
      ]
    },
    {
      "cell_type": "code",
      "execution_count": 10,
      "metadata": {
        "id": "1ynUr5qaK8jI"
      },
      "outputs": [
        {
          "name": "stdout",
          "output_type": "stream",
          "text": [
            "None\n"
          ]
        }
      ],
      "source": [
        "p = next(model.parameters())\n",
        "print(p.grad)"
      ]
    },
    {
      "cell_type": "code",
      "execution_count": 11,
      "metadata": {
        "id": "LbEVQD9UK8jI"
      },
      "outputs": [
        {
          "name": "stdout",
          "output_type": "stream",
          "text": [
            "tensor([[ 2.7425e-03, -6.1593e-03],\n",
            "        [-3.8842e-03,  1.3906e-02],\n",
            "        [ 1.6505e-04,  5.8378e-03],\n",
            "        [ 4.2559e-03,  6.5838e-03],\n",
            "        [-5.5826e-03,  1.1813e-02],\n",
            "        [-2.9626e-03,  2.4584e-03],\n",
            "        [-3.1932e-03,  1.3535e-03],\n",
            "        [ 8.0400e-04,  1.2376e-03],\n",
            "        [ 9.1830e-04, -1.6770e-03],\n",
            "        [ 3.4948e-03, -5.3360e-03],\n",
            "        [-6.3727e-03,  1.2415e-02],\n",
            "        [-4.5071e-04,  4.2024e-04],\n",
            "        [-4.6884e-03,  9.7411e-03],\n",
            "        [-3.0757e-03, -4.0368e-03],\n",
            "        [ 3.1927e-04,  1.5661e-03],\n",
            "        [-9.3193e-03,  7.8130e-03],\n",
            "        [-1.0554e-03, -8.6122e-03],\n",
            "        [-3.7996e-03,  8.0235e-03],\n",
            "        [ 2.8464e-03,  6.3248e-03],\n",
            "        [-4.6414e-04, -4.6792e-03],\n",
            "        [ 2.1357e-03,  4.4777e-03],\n",
            "        [ 6.2656e-04, -1.3717e-04],\n",
            "        [ 1.6496e-03, -1.8469e-03],\n",
            "        [-1.5718e-03, -8.8667e-03],\n",
            "        [-8.7305e-04,  3.4886e-03],\n",
            "        [ 7.6291e-04, -3.5156e-03],\n",
            "        [ 0.0000e+00,  0.0000e+00],\n",
            "        [ 9.6248e-04, -3.7301e-03],\n",
            "        [-1.9488e-03, -2.1888e-03],\n",
            "        [-4.1492e-04, -3.3436e-03],\n",
            "        [-2.9963e-03, -6.2111e-03],\n",
            "        [ 2.8235e-03,  5.0874e-03],\n",
            "        [-1.0635e-02,  7.2095e-03],\n",
            "        [-1.1571e-04,  1.0536e-03],\n",
            "        [-1.3679e-03, -6.9738e-03],\n",
            "        [-1.8932e-03, -7.1898e-03],\n",
            "        [ 4.6253e-03,  3.2339e-03],\n",
            "        [ 2.3387e-03, -2.9212e-03],\n",
            "        [-4.4958e-04,  3.4365e-03],\n",
            "        [-5.2652e-03,  3.8106e-04],\n",
            "        [-9.8126e-04,  1.6219e-03],\n",
            "        [-5.4747e-03,  1.8546e-03],\n",
            "        [ 9.3720e-04, -5.6541e-03],\n",
            "        [ 1.1741e-03,  3.1233e-03],\n",
            "        [ 9.6318e-03, -6.6117e-03],\n",
            "        [-3.1095e-03, -7.6653e-04],\n",
            "        [-3.8556e-03,  1.1685e-02],\n",
            "        [-6.7086e-04,  3.9021e-03],\n",
            "        [ 4.2148e-03,  1.9019e-03],\n",
            "        [ 1.7628e-03,  3.9675e-03],\n",
            "        [-3.7006e-03,  4.7201e-03],\n",
            "        [ 2.4068e-03, -6.5638e-03],\n",
            "        [-2.4909e-04, -2.1544e-03],\n",
            "        [ 1.1393e-03,  2.3377e-03],\n",
            "        [ 7.0716e-03, -5.9345e-03],\n",
            "        [ 9.0797e-04, -3.0514e-04],\n",
            "        [-2.1218e-03, -1.8490e-03],\n",
            "        [ 4.6169e-04,  7.7957e-03],\n",
            "        [ 1.0020e-02, -6.0353e-03],\n",
            "        [-9.4073e-04, -1.1690e-02],\n",
            "        [-4.4724e-06, -3.6300e-04],\n",
            "        [ 4.1989e-04, -4.3826e-04],\n",
            "        [ 0.0000e+00,  0.0000e+00],\n",
            "        [ 6.2629e-03,  2.1829e-03],\n",
            "        [ 1.8103e-03,  7.7310e-03],\n",
            "        [-6.3541e-05, -5.7563e-03],\n",
            "        [ 4.0375e-04,  3.7946e-03],\n",
            "        [-1.2087e-03, -1.9168e-03],\n",
            "        [ 1.3601e-03,  2.5263e-03],\n",
            "        [ 1.0134e-03,  5.2601e-03],\n",
            "        [-6.8687e-04,  6.8083e-04],\n",
            "        [ 2.3270e-03,  8.5481e-03],\n",
            "        [ 2.7872e-03, -1.9094e-03],\n",
            "        [-1.2507e-02,  4.9926e-03],\n",
            "        [ 8.4116e-03, -2.3270e-03],\n",
            "        [ 1.2691e-03,  5.3497e-03],\n",
            "        [-2.3454e-03, -1.5842e-05],\n",
            "        [ 2.2053e-04,  3.2561e-03],\n",
            "        [ 1.2817e-03, -7.7396e-05],\n",
            "        [ 1.7108e-03,  3.5049e-03],\n",
            "        [-1.3099e-03, -5.2217e-03],\n",
            "        [-2.0031e-03, -1.0497e-02],\n",
            "        [-1.0247e-02,  8.3252e-03],\n",
            "        [ 7.6920e-03, -6.8240e-04],\n",
            "        [-6.5596e-04, -3.7206e-03],\n",
            "        [-3.9256e-03, -4.4672e-03],\n",
            "        [-1.7819e-03,  7.0460e-03],\n",
            "        [-2.1692e-03, -1.9706e-04],\n",
            "        [ 4.1409e-03, -5.5714e-04],\n",
            "        [-3.0329e-03, -4.5329e-03],\n",
            "        [ 7.9069e-06, -3.2145e-03],\n",
            "        [ 3.1352e-03, -8.3442e-03],\n",
            "        [ 1.2800e-03,  3.0948e-04],\n",
            "        [ 5.3429e-03, -3.5757e-03],\n",
            "        [ 0.0000e+00,  0.0000e+00],\n",
            "        [-1.8336e-03, -1.7789e-03],\n",
            "        [ 0.0000e+00,  0.0000e+00],\n",
            "        [ 8.8012e-04, -2.0339e-03],\n",
            "        [-1.4821e-04, -2.7138e-05],\n",
            "        [ 1.6440e-03, -6.4110e-03]])\n"
          ]
        }
      ],
      "source": [
        "value = (model(X) ** 2).mean()\n",
        "value.backward()\n",
        "print(p.grad)"
      ]
    },
    {
      "cell_type": "markdown",
      "metadata": {
        "id": "sOmMT6qOK8jJ"
      },
      "source": [
        "One can then reset the gradients with the method `.zero_grad()`"
      ]
    },
    {
      "cell_type": "code",
      "execution_count": 12,
      "metadata": {
        "id": "vhQEDEChK8jJ"
      },
      "outputs": [
        {
          "name": "stdout",
          "output_type": "stream",
          "text": [
            "None\n"
          ]
        }
      ],
      "source": [
        "model.zero_grad()\n",
        "print(p.grad)"
      ]
    },
    {
      "cell_type": "markdown",
      "metadata": {
        "id": "i5wuXOEIP6A_"
      },
      "source": [
        "### A.2.2 - Writing the gradient descent\n",
        "\n",
        "Our objective is to push the model, for an input `X` to return an output that matches `y`. To do so we will minimize the **mean square error** $MSE = \\frac{1}{N}\\sum_{i=1}^N \\|\\mbox{model}(X_i) - y_i\\|^2$ over the entire dataset using gradient descent.\n",
        "\n",
        "Create a function `train(data, model, epochs, visualize=True)` that takes a dataset of inputs and outputs `data`, a neural network `model`, and trains the model for `epoch` epochs. For each epoch, you will need to, in order:\n",
        "\n",
        "1. Prepare gradient computations using `model.zero_grad()`\n",
        "2. Compute the output of the `model` over the input data `X`\n",
        "3. Compute `loss`, the mean squared error loss over the entire dataset.\n",
        "4. Use `loss.backward()` to automatically compute the gradients of the loss wrt the model parameters.\n",
        "5. Make one step of gradient descent by updating the tensor `p.data` of each parameter `p` in `model.parameters()` with the formula $p = p - \\eta \\nabla L(p)$ where $\\eta=10^{-2}$ is the step-size and $L$ is the loss. Recall that the gradient computed by `loss.backward()` is accessible in `p.grad`.\n",
        "  \n",
        "If `vizualize` is set to `True`, visualize the output of the neural network and loss using `TP01.visualize` once every 1000 epochs."
      ]
    },
    {
      "cell_type": "code",
      "execution_count": 13,
      "metadata": {
        "id": "LUWp4-aEJll_"
      },
      "outputs": [
        {
          "ename": "SyntaxError",
          "evalue": "invalid syntax (3295944263.py, line 25)",
          "output_type": "error",
          "traceback": [
            "\u001b[1;36m  Cell \u001b[1;32mIn[13], line 25\u001b[1;36m\u001b[0m\n\u001b[1;33m    TP01.visualize(data, model epochs+1, losses)\u001b[0m\n\u001b[1;37m                               ^\u001b[0m\n\u001b[1;31mSyntaxError\u001b[0m\u001b[1;31m:\u001b[0m invalid syntax\n"
          ]
        }
      ],
      "source": [
        "### YOUR CODE HERE ###\n",
        "def loss(X, y):\n",
        "    diff=X-y\n",
        "    diff=diff**2\n",
        "    sumdiff=diff[:,0]+diff[:,1]\n",
        "    loss=sumdiff/len(sumdiff[:,0])\n",
        "\n",
        "    return loss\n",
        "\n",
        "def train(data, model, epochs, visualize=True):\n",
        "    losses=[]\n",
        "    X, y=data\n",
        "    eta=0.01\n",
        "    for epoch in range(epochs):\n",
        "        model.zero_grad()\n",
        "        output=model(X)\n",
        "        loss=(output-y)**2      \n",
        "        loss.backward()\n",
        "        losses.apend(loss.item())\n",
        "\n",
        "        for p in model.parameters():\n",
        "            p.data-= eta * p.grad\n",
        "        \n",
        "        if visualize and (epoch+1) %1000==0:\n",
        "            TP01.visualize(data, model epochs+1, losses)\n",
        "        "
      ]
    },
    {
      "cell_type": "markdown",
      "metadata": {
        "id": "MBfCk-QOVy8K"
      },
      "source": [
        "Finally, train your MLP on the checkerboard dataset for 10000 epochs.\n",
        "You should observe a decreasing loss, which reaches approximatively $6 \\cdot 10^{-2}$ after 10000 epochs (the precise value varies, and depends on the random initialization, but the order of magnitude is usually similar).\n",
        "You can get to lower loss values by using more training epochs."
      ]
    },
    {
      "cell_type": "code",
      "execution_count": null,
      "metadata": {
        "id": "LPwqBkKZK8jJ"
      },
      "outputs": [
        {
          "ename": "NameError",
          "evalue": "name 'train' is not defined",
          "output_type": "error",
          "traceback": [
            "\u001b[1;31m---------------------------------------------------------------------------\u001b[0m",
            "\u001b[1;31mNameError\u001b[0m                                 Traceback (most recent call last)",
            "Cell \u001b[1;32mIn[34], line 5\u001b[0m\n\u001b[0;32m      3\u001b[0m data\u001b[38;5;241m=\u001b[39mcreate_checkerboard()\n\u001b[0;32m      4\u001b[0m model\u001b[38;5;241m=\u001b[39mcreate_simple_mlp(\u001b[38;5;241m1000\u001b[39m)\n\u001b[1;32m----> 5\u001b[0m \u001b[43mtrain\u001b[49m(data,model, \u001b[38;5;241m1000\u001b[39m)\n",
            "\u001b[1;31mNameError\u001b[0m: name 'train' is not defined"
          ]
        }
      ],
      "source": [
        "### YOUR CODE HERE ###\n",
        "\n",
        "data=create_checkerboard()\n",
        "model=create_simple_mlp(1000)\n",
        "train(data,model, 1000)"
      ]
    },
    {
      "cell_type": "markdown",
      "metadata": {
        "id": "7EZV201dPrQ6"
      },
      "source": [
        "Is it predicting the correct classes? Does the prediction line up with the checkerboard pattern you expected ?\n",
        "Try with 2, 10, and 100 neurons in the internal layer. See how the predictions change, and how close to zero the loss gets."
      ]
    },
    {
      "cell_type": "markdown",
      "metadata": {
        "id": "Pqqj0pYIK8jJ"
      },
      "source": [
        "## A.3 - Measuring accuracy"
      ]
    },
    {
      "cell_type": "markdown",
      "metadata": {
        "id": "2ptxr7FYK8jJ"
      },
      "source": [
        "In order to more efficiently evalute the differences observed when changing the size of the internal layer,\n",
        "write an accuracy method which computes the mean accuracy of a model. Recall that for an output $y \\in \\mathbb{R}^2$,\n",
        "we say that the model predicts 'class 0' if $y_0 > y_1$ and that it predicts 'class 1' otherwise."
      ]
    },
    {
      "cell_type": "code",
      "execution_count": null,
      "metadata": {
        "id": "R6pkrQk4K8jJ"
      },
      "outputs": [],
      "source": [
        "### YOUR CODE HERE ###"
      ]
    },
    {
      "cell_type": "code",
      "execution_count": null,
      "metadata": {
        "id": "rjfs4XoZbtDb"
      },
      "outputs": [],
      "source": [
        "acc = accuracy((X,y), model)\n",
        "TP01.check_accuracy((X,y), model, acc)"
      ]
    },
    {
      "cell_type": "markdown",
      "metadata": {
        "id": "9slBG-q6K8jK"
      },
      "source": [
        "## A.4 - Impact of width\n",
        "\n",
        "Do larger models tend to perform better, the same, or worse ? Let us check the training accuracy of models as a function of the width. For each width in the list `[2, 5, 10, 20, 50, 100, 200, 1000]`, train a model of the specified width for 10,000 epochs, and record its final training accuracy. Plot the training accuracy with respect to the width with a log scale using `plt.xscale('log')`."
      ]
    },
    {
      "cell_type": "code",
      "execution_count": null,
      "metadata": {
        "id": "5oObYfLZK8jK"
      },
      "outputs": [],
      "source": [
        "### YOUR CODE HERE ###"
      ]
    },
    {
      "cell_type": "markdown",
      "metadata": {
        "id": "nvtYmh9VK8jN"
      },
      "source": [
        "### A.5 - Write your own visualization (optional)\n",
        "\n",
        "You have been using the provided visualization code to check your model's output. Now, write your own `visualize(data, model, epoch, losses)` !"
      ]
    },
    {
      "cell_type": "code",
      "execution_count": null,
      "metadata": {
        "id": "oWwDSoSuK8jN"
      },
      "outputs": [],
      "source": [
        "### YOUR CODE HERE ###"
      ]
    },
    {
      "cell_type": "markdown",
      "metadata": {
        "id": "zpYkb5fgWCup"
      },
      "source": [
        "# Part B - Harder dataset\n",
        "\n",
        "## B.0 - Data creation\n",
        "\n",
        "The following code create a more challenging dataset consisting of two intertwined spirals."
      ]
    },
    {
      "cell_type": "code",
      "execution_count": null,
      "metadata": {
        "id": "ojjFvkCjQJst"
      },
      "outputs": [],
      "source": [
        "def create_spiral():\n",
        "    # Creates a spiral\n",
        "    theta = np.linspace(0, 4 * np.pi, 100)\n",
        "    r = np.linspace(0.5, 2, 100)\n",
        "    x = r * np.cos(theta)\n",
        "    y = r * np.sin(theta)\n",
        "\n",
        "    # Creates another spiral for the second class\n",
        "    theta = np.linspace(0, 4 * np.pi, 100)\n",
        "    r = np.linspace(0.5, 2, 100) + 0.3\n",
        "    x2 = r * np.cos(theta)\n",
        "    y2 = r * np.sin(theta)\n",
        "\n",
        "    # Merging both spirals into a single dataset\n",
        "    X = np.vstack((np.hstack((x, x2)), np.hstack((y, y2)))).T\n",
        "    y = np.hstack((np.zeros(100), np.ones(100)))\n",
        "\n",
        "    # From numpy arrays to Pytorch tensors\n",
        "    X = torch.FloatTensor(X)\n",
        "    y = torch.LongTensor(np.stack([y,1-y], axis=-1))\n",
        "\n",
        "    return X, y\n",
        "\n",
        "# Visualizing the dataset\n",
        "X, y = create_spiral()\n",
        "plt.scatter(X[:, 0], X[:, 1], c=y[:,0])\n",
        "plt.xlabel(\"$X_1$\")\n",
        "plt.ylabel(\"$X_2$\")\n",
        "plt.title(\"Spiral dataset\")\n",
        "plt.show()"
      ]
    },
    {
      "cell_type": "markdown",
      "metadata": {
        "id": "rDX8nmPhWN3J"
      },
      "source": [
        "## B.1 - Model creation, training, validation\n",
        "\n",
        "Train your model (don't forget to create a new model to reinitialize the parameters) on the spiral dataset for 50,000 epochs. Is it predicting the correct classes? Try increasing the number of neurons to 100 first, then more if the result does not convince you."
      ]
    },
    {
      "cell_type": "code",
      "execution_count": null,
      "metadata": {
        "id": "_l--6uvUVtoK"
      },
      "outputs": [],
      "source": [
        "### YOUR CODE HERE ###"
      ]
    },
    {
      "cell_type": "markdown",
      "metadata": {
        "id": "EiS4q5RBK8jO"
      },
      "source": [
        "## B.2 - Varying model size and training hyperparameters\n",
        "\n",
        "Repeat the experiment with varying width, to check how the accuracy improves, or whether it does.\n",
        "You can also try to increase the number of training epochs for each width.\n",
        "Think about the computation time, and thus how many widths you want to try and for how long you want to train each."
      ]
    },
    {
      "cell_type": "code",
      "execution_count": null,
      "metadata": {
        "id": "Pa4awJKiK8jO"
      },
      "outputs": [],
      "source": [
        "### YOUR CODE HERE ###"
      ]
    },
    {
      "cell_type": "markdown",
      "metadata": {
        "id": "-10jy1nkK8jO"
      },
      "source": [
        "---"
      ]
    }
  ],
  "metadata": {
    "colab": {
      "include_colab_link": true,
      "provenance": []
    },
    "kernelspec": {
      "display_name": "Python 3 (ipykernel)",
      "language": "python",
      "name": "python3"
    },
    "language_info": {
      "codemirror_mode": {
        "name": "ipython",
        "version": 3
      },
      "file_extension": ".py",
      "mimetype": "text/x-python",
      "name": "python",
      "nbconvert_exporter": "python",
      "pygments_lexer": "ipython3",
      "version": "3.8.10"
    }
  },
  "nbformat": 4,
  "nbformat_minor": 0
}
